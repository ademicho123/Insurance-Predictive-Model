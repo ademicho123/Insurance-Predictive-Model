{
 "cells": [
  {
   "cell_type": "code",
   "execution_count": 367,
   "id": "b45e06f3",
   "metadata": {},
   "outputs": [],
   "source": [
    "# Importing the necessary libraries\n",
    "import pandas as pd\n",
    "import seaborn as sns\n",
    "import matplotlib.pyplot as plt\n",
    "from sklearn.ensemble import RandomForestRegressor\n",
    "from sklearn.model_selection import train_test_split\n",
    "from sklearn.metrics import mean_absolute_error\n",
    "import pickle"
   ]
  },
  {
   "cell_type": "code",
   "execution_count": null,
   "id": "502fbeab",
   "metadata": {},
   "outputs": [],
   "source": [
    "# Loading the data set\n",
    "ins = pd.read_csv(\"data/insurance.csv\")\n",
    "ins"
   ]
  },
  {
   "cell_type": "code",
   "execution_count": null,
   "id": "746d24bf",
   "metadata": {},
   "outputs": [],
   "source": [
    "# Converting the smoker column into numerical format\n",
    "ins.dropna(subset=['smoker'], inplace=True)     # The null value was dropped.\n",
    "ins['smoker'] = ins['smoker'].map({'yes': 1, 'no': 0})\n",
    "ins"
   ]
  },
  {
   "cell_type": "code",
   "execution_count": null,
   "id": "3c3d280c",
   "metadata": {},
   "outputs": [],
   "source": [
    "# Converting the sex column into numerical format\n",
    "ins['sex'] = ins['sex'].map({'male': 0, 'female': 1})\n",
    "ins"
   ]
  },
  {
   "cell_type": "code",
   "execution_count": 371,
   "id": "db60a70e",
   "metadata": {},
   "outputs": [],
   "source": [
    "# Dropping the 'region' column\n",
    "ins.drop('region', axis=1, inplace=True)"
   ]
  },
  {
   "cell_type": "code",
   "execution_count": 372,
   "id": "94267bb9",
   "metadata": {},
   "outputs": [],
   "source": [
    "# Getting the X and Y variables\n",
    "X = ins['age']\n",
    "y = ins['charges']"
   ]
  },
  {
   "cell_type": "code",
   "execution_count": null,
   "id": "f103b203",
   "metadata": {
    "scrolled": true
   },
   "outputs": [],
   "source": [
    "# Plotting scatterplot for x and y variables\n",
    "plt.figure(figsize=(10, 6))\n",
    "sns.scatterplot(data=ins, x='age', y='charges')\n",
    "plt.title('Scatterplot for Charges')\n",
    "plt.xlabel('Age')\n",
    "plt.ylabel('Charges')\n",
    "plt.show()\n",
    "plt.close()"
   ]
  },
  {
   "cell_type": "code",
   "execution_count": 374,
   "id": "ee70538d",
   "metadata": {},
   "outputs": [],
   "source": [
    "# Splitting the data into training and testing\n",
    "x_train, x_test, y_train, y_test = train_test_split(x, y, test_size = 0.2, random_state = 42)"
   ]
  },
  {
   "cell_type": "code",
   "execution_count": 375,
   "id": "56b920e1",
   "metadata": {},
   "outputs": [],
   "source": [
    "# # Creating and Training the model\n",
    "model = RandomForestRegressor(random_state=42)\n",
    "\n",
    "# Training the model\n",
    "model.fit(x_train, y_train)\n",
    "\n",
    "# Save the model to a pickle file\n",
    "with open('ins_model.pkl', 'wb') as file:\n",
    "    pickle.dump(model, file)"
   ]
  },
  {
   "cell_type": "code",
   "execution_count": null,
   "id": "5ffdd223",
   "metadata": {
    "scrolled": true
   },
   "outputs": [],
   "source": [
    "# Create the predictions\n",
    "predictions = model.predict(x_test)\n",
    "predictions"
   ]
  },
  {
   "cell_type": "code",
   "execution_count": null,
   "id": "8a5593b1",
   "metadata": {},
   "outputs": [],
   "source": [
    "#Checking the precision, recall and f1-score\n",
    "mae = mean_absolute_error(y_test, predictions)\n",
    "print(f'Mean Absolute Error: {mae}')"
   ]
  }
 ],
 "metadata": {
  "kernelspec": {
   "display_name": "Python 3 (ipykernel)",
   "language": "python",
   "name": "python3"
  },
  "language_info": {
   "codemirror_mode": {
    "name": "ipython",
    "version": 3
   },
   "file_extension": ".py",
   "mimetype": "text/x-python",
   "name": "python",
   "nbconvert_exporter": "python",
   "pygments_lexer": "ipython3",
   "version": "3.11.5"
  }
 },
 "nbformat": 4,
 "nbformat_minor": 5
}
